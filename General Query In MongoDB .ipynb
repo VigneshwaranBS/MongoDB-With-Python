{
 "cells": [
  {
   "cell_type": "code",
   "execution_count": 4,
   "id": "1173afb1",
   "metadata": {},
   "outputs": [],
   "source": [
    "import pymongo\n",
    "\n",
    "#  initailize collections\n",
    "client = pymongo.MongoClient(\"mongodb://localhost:27017\")\n",
    "\n",
    "# cretae db\n",
    "mydb = client[\"Employee\"]\n",
    "\n",
    "#  create collection\n",
    "empinfo = mydb.employeeinformation"
   ]
  },
  {
   "cell_type": "code",
   "execution_count": 5,
   "id": "0d7a1cf2",
   "metadata": {},
   "outputs": [
    {
     "data": {
      "text/plain": [
       "<pymongo.results.InsertOneResult at 0x1d1b18bd7b0>"
      ]
     },
     "execution_count": 5,
     "metadata": {},
     "output_type": "execute_result"
    }
   ],
   "source": [
    "#  cretae record  (json)\n",
    "record={\n",
    "    \"first name\":\"vignesh\",\n",
    "    \"last name\" : \"vicky\",\n",
    "    \"age\" : \"20\"\n",
    "}\n",
    "\n",
    "#  insert record \n",
    "empinfo.insert_one(record)"
   ]
  },
  {
   "cell_type": "code",
   "execution_count": 6,
   "id": "2c82d47c",
   "metadata": {},
   "outputs": [
    {
     "data": {
      "text/plain": [
       "<pymongo.results.InsertManyResult at 0x1d1b18beaa0>"
      ]
     },
     "execution_count": 6,
     "metadata": {},
     "output_type": "execute_result"
    }
   ],
   "source": [
    "\n",
    "#  insert many record in array format\n",
    "record1=[{\n",
    "    \"first name\":\"vignesh\",\n",
    "    \"last name\" : \"vicky\",\n",
    "    \"age\" : \"20\"\n",
    "},{\n",
    "    \"first name\":\"vicky\",\n",
    "    \"last name\" : \"vignesh\",\n",
    "    \"age\" : \"21\"\n",
    "    \n",
    "},{\n",
    "    \"first name\":\"vignesh\",\n",
    "    \"last name\" : \"vicky\",\n",
    "    \"age\" : \"20\"\n",
    "}]\n",
    "\n",
    "#  insert record many\n",
    "empinfo.insert_many(record1)"
   ]
  },
  {
   "cell_type": "markdown",
   "id": "9589e1a5",
   "metadata": {},
   "source": [
    "### simple way of querying "
   ]
  },
  {
   "cell_type": "code",
   "execution_count": 9,
   "id": "2ae58f45",
   "metadata": {},
   "outputs": [
    {
     "data": {
      "text/plain": [
       "{'_id': ObjectId('646d9e6a338dbe52b82cbaf3'),\n",
       " 'first name': 'vignesh',\n",
       " 'last name': 'vicky',\n",
       " 'age': '20'}"
      ]
     },
     "execution_count": 9,
     "metadata": {},
     "output_type": "execute_result"
    }
   ],
   "source": [
    "empinfo.find_one()"
   ]
  },
  {
   "cell_type": "code",
   "execution_count": 11,
   "id": "8e91f405",
   "metadata": {},
   "outputs": [
    {
     "data": {
      "text/plain": [
       "<pymongo.cursor.Cursor at 0x1d1b198d5d0>"
      ]
     },
     "execution_count": 11,
     "metadata": {},
     "output_type": "execute_result"
    }
   ],
   "source": [
    "empinfo.find() # select *  from employeinformation "
   ]
  },
  {
   "cell_type": "code",
   "execution_count": 14,
   "id": "e1e23af8",
   "metadata": {},
   "outputs": [
    {
     "name": "stdout",
     "output_type": "stream",
     "text": [
      "{'_id': ObjectId('646d9e6a338dbe52b82cbaf3'), 'first name': 'vignesh', 'last name': 'vicky', 'age': '20'}\n",
      "{'_id': ObjectId('646d9e6a338dbe52b82cbaf4'), 'first name': 'vignesh', 'last name': 'vicky', 'age': '20'}\n",
      "{'_id': ObjectId('646d9e6a338dbe52b82cbaf5'), 'first name': 'vicky', 'last name': 'vignesh', 'age': '21'}\n",
      "{'_id': ObjectId('646d9e6a338dbe52b82cbaf6'), 'first name': 'vignesh', 'last name': 'vicky', 'age': '20'}\n"
     ]
    }
   ],
   "source": [
    "for record in empinfo.find({}):\n",
    "    print(record)"
   ]
  },
  {
   "cell_type": "markdown",
   "id": "9cb852c3",
   "metadata": {},
   "source": [
    "**query the json based on conditions**"
   ]
  },
  {
   "cell_type": "code",
   "execution_count": 15,
   "id": "35f597d1",
   "metadata": {},
   "outputs": [
    {
     "name": "stdout",
     "output_type": "stream",
     "text": [
      "{'_id': ObjectId('646d9e6a338dbe52b82cbaf3'), 'first name': 'vignesh', 'last name': 'vicky', 'age': '20'}\n",
      "{'_id': ObjectId('646d9e6a338dbe52b82cbaf4'), 'first name': 'vignesh', 'last name': 'vicky', 'age': '20'}\n",
      "{'_id': ObjectId('646d9e6a338dbe52b82cbaf6'), 'first name': 'vignesh', 'last name': 'vicky', 'age': '20'}\n"
     ]
    }
   ],
   "source": [
    "for record in empinfo.find({\"first name\" : \"vignesh\"}):\n",
    "    print(record)"
   ]
  },
  {
   "cell_type": "markdown",
   "id": "c17f905d",
   "metadata": {},
   "source": [
    " **query the json based on query operator ($in,$lt,$gt,etc)**"
   ]
  },
  {
   "cell_type": "code",
   "execution_count": 22,
   "id": "f3071d5c",
   "metadata": {},
   "outputs": [],
   "source": [
    "for record in empinfo.find({\"age\" : {\"$lt\":50}}):\n",
    "    print(record)"
   ]
  },
  {
   "cell_type": "markdown",
   "id": "ef58ba5f",
   "metadata": {},
   "source": [
    "cretae new collection"
   ]
  },
  {
   "cell_type": "code",
   "execution_count": 23,
   "id": "4842c5c3",
   "metadata": {},
   "outputs": [],
   "source": [
    "inventory=mydb.inventory"
   ]
  },
  {
   "cell_type": "code",
   "execution_count": 24,
   "id": "efba3291",
   "metadata": {},
   "outputs": [],
   "source": [
    "inventory.insert_many( [\n",
    "   { 'item': \"journal\", 'qty': 25, 'size': { 'h': 14, 'w': 21,'uom': \"cm\" }, 'status': \"A\" },\n",
    "   { 'item': \"notebook\", 'qty': 50,'size': { 'h': 8.5, 'w': 11,'uom': \"in\" },'status': \"A\" },\n",
    "   { 'item': \"paper\", 'qty': 100, 'size': { 'h': 8.5, 'w': 11,'uom': \"in\" },'status': \"D\" },\n",
    "   { 'item': \"planner\", 'qty': 75, 'size': { 'h': 22.85,'w': 30,'uom': \"cm\" },'status': \"D\" },\n",
    "   { 'item': \"postcard\", 'qty': 45, 'size': { 'h': 10, 'w': 15.25,'uom': \"cm\" },'status': \"A\" }\n",
    "]);\n",
    "    "
   ]
  },
  {
   "cell_type": "code",
   "execution_count": 25,
   "id": "52dc26de",
   "metadata": {},
   "outputs": [
    {
     "name": "stdout",
     "output_type": "stream",
     "text": [
      "{'_id': ObjectId('646da4e9338dbe52b82cbaf7'), 'item': 'journal', 'qty': 25, 'size': {'h': 14, 'w': 21, 'uom': 'cm'}, 'status': 'A'}\n"
     ]
    }
   ],
   "source": [
    "for records in inventory.find({'size': { 'h': 14, 'w': 21,'uom': \"cm\" }}):\n",
    "    print(records)"
   ]
  },
  {
   "cell_type": "code",
   "execution_count": null,
   "id": "7376455f",
   "metadata": {},
   "outputs": [],
   "source": []
  }
 ],
 "metadata": {
  "kernelspec": {
   "display_name": "Python 3 (ipykernel)",
   "language": "python",
   "name": "python3"
  },
  "language_info": {
   "codemirror_mode": {
    "name": "ipython",
    "version": 3
   },
   "file_extension": ".py",
   "mimetype": "text/x-python",
   "name": "python",
   "nbconvert_exporter": "python",
   "pygments_lexer": "ipython3",
   "version": "3.10.4"
  }
 },
 "nbformat": 4,
 "nbformat_minor": 5
}
